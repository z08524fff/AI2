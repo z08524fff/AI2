{
  "nbformat": 4,
  "nbformat_minor": 0,
  "metadata": {
    "colab": {
      "name": "9.MNIST_RNN",
      "provenance": []
    },
    "kernelspec": {
      "name": "python3",
      "display_name": "Python 3"
    }
  },
  "cells": [
    {
      "cell_type": "code",
      "metadata": {
        "id": "D2ceWaN_V5zt",
        "colab_type": "code",
        "colab": {
          "base_uri": "https://localhost:8080/",
          "height": 986
        },
        "outputId": "f0a87c8d-240a-4a2c-f582-56efdf057761"
      },
      "source": [
        "from keras.datasets import mnist\n",
        "from keras.layers import Dense, LSTM\n",
        "from keras.utils import to_categorical\n",
        "from keras.models import Sequential\n",
        "\n",
        "#parameters for LSTM\n",
        "nb_lstm_outputs = 30  \n",
        "nb_time_steps = 28  \n",
        "nb_input_vector = 28 \n",
        "\n",
        "#data preprocessing: tofloat32, normalization, one_hot encoding\n",
        "(x_train, y_train), (x_test, y_test) = mnist.load_data()\n",
        "x_train = x_train.astype('float32')\n",
        "x_test = x_test.astype('float32')\n",
        "x_train /= 255\n",
        "x_test /= 255\n",
        " \n",
        "y_train = to_categorical(y_train, num_classes=10)\n",
        "y_test = to_categorical(y_test, num_classes=10)\n",
        "\n",
        "#build model\n",
        "model = Sequential()\n",
        "model.add(LSTM(units=nb_lstm_outputs, input_shape=(nb_time_steps, nb_input_vector)))\n",
        "model.add(Dense(10, activation='softmax'))\n",
        "\n",
        "#compile:loss, optimizer, metrics\n",
        "model.compile(loss='categorical_crossentropy', optimizer='adam', metrics=['accuracy'])\n",
        "#train: epcoch, batch_size\n",
        "model.fit(x_train, y_train, epochs=20, batch_size=128, verbose=1)\n",
        "\n",
        "model.summary()\n",
        "\n",
        "score = model.evaluate(x_test, y_test,batch_size=128, verbose=1)\n",
        "print(score)"
      ],
      "execution_count": 1,
      "outputs": [
        {
          "output_type": "stream",
          "text": [
            "Using TensorFlow backend.\n"
          ],
          "name": "stderr"
        },
        {
          "output_type": "stream",
          "text": [
            "Downloading data from https://s3.amazonaws.com/img-datasets/mnist.npz\n",
            "11493376/11490434 [==============================] - 5s 0us/step\n",
            "Epoch 1/20\n",
            "60000/60000 [==============================] - 11s 178us/step - loss: 1.0225 - accuracy: 0.6788\n",
            "Epoch 2/20\n",
            "60000/60000 [==============================] - 10s 171us/step - loss: 0.3182 - accuracy: 0.9091\n",
            "Epoch 3/20\n",
            "60000/60000 [==============================] - 10s 171us/step - loss: 0.2197 - accuracy: 0.9377\n",
            "Epoch 4/20\n",
            "60000/60000 [==============================] - 10s 170us/step - loss: 0.1760 - accuracy: 0.9499\n",
            "Epoch 5/20\n",
            "60000/60000 [==============================] - 10s 170us/step - loss: 0.1487 - accuracy: 0.9564\n",
            "Epoch 6/20\n",
            "60000/60000 [==============================] - 10s 170us/step - loss: 0.1332 - accuracy: 0.9610\n",
            "Epoch 7/20\n",
            "60000/60000 [==============================] - 10s 170us/step - loss: 0.1175 - accuracy: 0.9656\n",
            "Epoch 8/20\n",
            "60000/60000 [==============================] - 10s 168us/step - loss: 0.1054 - accuracy: 0.9694\n",
            "Epoch 9/20\n",
            "60000/60000 [==============================] - 10s 168us/step - loss: 0.0976 - accuracy: 0.9709\n",
            "Epoch 10/20\n",
            "60000/60000 [==============================] - 10s 169us/step - loss: 0.0912 - accuracy: 0.9733\n",
            "Epoch 11/20\n",
            "60000/60000 [==============================] - 10s 169us/step - loss: 0.0849 - accuracy: 0.9746\n",
            "Epoch 12/20\n",
            "60000/60000 [==============================] - 10s 168us/step - loss: 0.0787 - accuracy: 0.9765\n",
            "Epoch 13/20\n",
            "60000/60000 [==============================] - 10s 168us/step - loss: 0.0754 - accuracy: 0.9773\n",
            "Epoch 14/20\n",
            "60000/60000 [==============================] - 10s 167us/step - loss: 0.0712 - accuracy: 0.9785\n",
            "Epoch 15/20\n",
            "60000/60000 [==============================] - 10s 168us/step - loss: 0.0695 - accuracy: 0.9792\n",
            "Epoch 16/20\n",
            "60000/60000 [==============================] - 10s 170us/step - loss: 0.0648 - accuracy: 0.9809\n",
            "Epoch 17/20\n",
            "60000/60000 [==============================] - 10s 169us/step - loss: 0.0623 - accuracy: 0.9815\n",
            "Epoch 18/20\n",
            "60000/60000 [==============================] - 10s 170us/step - loss: 0.0580 - accuracy: 0.9824\n",
            "Epoch 19/20\n",
            "60000/60000 [==============================] - 10s 169us/step - loss: 0.0574 - accuracy: 0.9827\n",
            "Epoch 20/20\n",
            "60000/60000 [==============================] - 10s 169us/step - loss: 0.0532 - accuracy: 0.9841\n",
            "Model: \"sequential_1\"\n",
            "_________________________________________________________________\n",
            "Layer (type)                 Output Shape              Param #   \n",
            "=================================================================\n",
            "lstm_1 (LSTM)                (None, 30)                7080      \n",
            "_________________________________________________________________\n",
            "dense_1 (Dense)              (None, 10)                310       \n",
            "=================================================================\n",
            "Total params: 7,390\n",
            "Trainable params: 7,390\n",
            "Non-trainable params: 0\n",
            "_________________________________________________________________\n",
            "10000/10000 [==============================] - 1s 52us/step\n",
            "[0.07509425071403385, 0.9776999950408936]\n"
          ],
          "name": "stdout"
        }
      ]
    }
  ]
}