{
  "nbformat": 4,
  "nbformat_minor": 0,
  "metadata": {
    "colab": {
      "name": "7.Cifar10_CNN.ipynb",
      "provenance": []
    },
    "kernelspec": {
      "name": "python3",
      "display_name": "Python 3"
    }
  },
  "cells": [
    {
      "cell_type": "code",
      "metadata": {
        "id": "odZQVx7dBwij",
        "colab_type": "code",
        "colab": {
          "base_uri": "https://localhost:8080/",
          "height": 1000
        },
        "outputId": "f7b9fe3b-890e-468a-f1df-b9d721512c57"
      },
      "source": [
        "from keras.datasets import cifar10\n",
        "\n",
        "(x_train, y_train_), (x_test, y_test_) = cifar10.load_data()\n",
        "\n",
        "x_train = x_train.astype('float32') / 255\n",
        "x_test = x_test.astype('float32') / 255\n",
        "\n",
        "from keras.utils import to_categorical\n",
        "y_train = to_categorical(y_train_)\n",
        "y_test = to_categorical(y_test_)\n",
        "\n",
        "\"\"\"## Model Definition\"\"\"\n",
        "\n",
        "from keras.models import Sequential\n",
        "model = Sequential()\n",
        "\n",
        "from keras.layers import Conv2D, MaxPool2D, Flatten, Dense\n",
        "\n",
        "model.add(Conv2D(filters=32, \n",
        "                kernel_size=(3, 3),\n",
        "                activation='relu',\n",
        "                input_shape=(32, 32, 3)))\n",
        "\n",
        "model.add(MaxPool2D())\n",
        "\n",
        "model.add(Conv2D(filters=64,\n",
        "                kernel_size=(3, 3),\n",
        "                activation='relu'))\n",
        "model.add(MaxPool2D())\n",
        "\n",
        "model.add(Flatten())\n",
        "model.add(Dense(10, activation='softmax'))\n",
        "\n",
        "model.compile(optimizer='adam',\n",
        "             loss='categorical_crossentropy',\n",
        "             metrics=['accuracy'])\n",
        "\n",
        "print(model.summary())\n",
        "\n",
        "\"\"\"## Fitting\"\"\"\n",
        "\n",
        "history = model.fit(x_train, y_train, batch_size=50, epochs=15, verbose=1, validation_data=(x_test, y_test))\n",
        "\n",
        "import matplotlib.pyplot as plt\n",
        "\n",
        "history_dict = history.history\n",
        "loss_values = history_dict['loss']\n",
        "val_loss_values = history_dict['val_loss']\n",
        "\n",
        "epochs = range(1, len(history_dict['accuracy']) + 1)\n",
        "\n",
        "plt.plot(epochs, loss_values, 'bo', label='Training loss')\n",
        "plt.plot(epochs, val_loss_values, 'b', label='Validation loss')\n",
        "plt.title('Training and validation loss')\n",
        "plt.xlabel('Epochs')\n",
        "plt.ylabel('Loss')\n",
        "plt.legend()\n",
        "\n",
        "plt.show()"
      ],
      "execution_count": 2,
      "outputs": [
        {
          "output_type": "stream",
          "text": [
            "Model: \"sequential_2\"\n",
            "_________________________________________________________________\n",
            "Layer (type)                 Output Shape              Param #   \n",
            "=================================================================\n",
            "conv2d_3 (Conv2D)            (None, 30, 30, 32)        896       \n",
            "_________________________________________________________________\n",
            "max_pooling2d_2 (MaxPooling2 (None, 15, 15, 32)        0         \n",
            "_________________________________________________________________\n",
            "conv2d_4 (Conv2D)            (None, 13, 13, 64)        18496     \n",
            "_________________________________________________________________\n",
            "max_pooling2d_3 (MaxPooling2 (None, 6, 6, 64)          0         \n",
            "_________________________________________________________________\n",
            "flatten_1 (Flatten)          (None, 2304)              0         \n",
            "_________________________________________________________________\n",
            "dense_1 (Dense)              (None, 10)                23050     \n",
            "=================================================================\n",
            "Total params: 42,442\n",
            "Trainable params: 42,442\n",
            "Non-trainable params: 0\n",
            "_________________________________________________________________\n",
            "None\n",
            "Train on 50000 samples, validate on 10000 samples\n",
            "Epoch 1/15\n",
            "50000/50000 [==============================] - 59s 1ms/step - loss: 1.5226 - accuracy: 0.4597 - val_loss: 1.2873 - val_accuracy: 0.5474\n",
            "Epoch 2/15\n",
            "50000/50000 [==============================] - 59s 1ms/step - loss: 1.1954 - accuracy: 0.5833 - val_loss: 1.1424 - val_accuracy: 0.6006\n",
            "Epoch 3/15\n",
            "50000/50000 [==============================] - 58s 1ms/step - loss: 1.0736 - accuracy: 0.6290 - val_loss: 1.0361 - val_accuracy: 0.6470\n",
            "Epoch 4/15\n",
            "50000/50000 [==============================] - 58s 1ms/step - loss: 0.9925 - accuracy: 0.6577 - val_loss: 1.0212 - val_accuracy: 0.6455\n",
            "Epoch 5/15\n",
            "50000/50000 [==============================] - 58s 1ms/step - loss: 0.9358 - accuracy: 0.6775 - val_loss: 0.9892 - val_accuracy: 0.6591\n",
            "Epoch 6/15\n",
            "50000/50000 [==============================] - 58s 1ms/step - loss: 0.8934 - accuracy: 0.6906 - val_loss: 0.9616 - val_accuracy: 0.6661\n",
            "Epoch 7/15\n",
            "50000/50000 [==============================] - 58s 1ms/step - loss: 0.8599 - accuracy: 0.7046 - val_loss: 0.9530 - val_accuracy: 0.6706\n",
            "Epoch 8/15\n",
            "50000/50000 [==============================] - 58s 1ms/step - loss: 0.8256 - accuracy: 0.7163 - val_loss: 0.9310 - val_accuracy: 0.6808\n",
            "Epoch 9/15\n",
            "50000/50000 [==============================] - 58s 1ms/step - loss: 0.7977 - accuracy: 0.7256 - val_loss: 0.9482 - val_accuracy: 0.6703\n",
            "Epoch 10/15\n",
            "50000/50000 [==============================] - 58s 1ms/step - loss: 0.7753 - accuracy: 0.7333 - val_loss: 0.9194 - val_accuracy: 0.6862\n",
            "Epoch 11/15\n",
            "50000/50000 [==============================] - 58s 1ms/step - loss: 0.7518 - accuracy: 0.7427 - val_loss: 0.9204 - val_accuracy: 0.6858\n",
            "Epoch 12/15\n",
            "50000/50000 [==============================] - 58s 1ms/step - loss: 0.7330 - accuracy: 0.7471 - val_loss: 0.9193 - val_accuracy: 0.6891\n",
            "Epoch 13/15\n",
            "50000/50000 [==============================] - 58s 1ms/step - loss: 0.7091 - accuracy: 0.7568 - val_loss: 0.9502 - val_accuracy: 0.6825\n",
            "Epoch 14/15\n",
            "50000/50000 [==============================] - 58s 1ms/step - loss: 0.6975 - accuracy: 0.7590 - val_loss: 0.9226 - val_accuracy: 0.6846\n",
            "Epoch 15/15\n",
            "50000/50000 [==============================] - 58s 1ms/step - loss: 0.6802 - accuracy: 0.7662 - val_loss: 0.9304 - val_accuracy: 0.6896\n"
          ],
          "name": "stdout"
        },
        {
          "output_type": "display_data",
          "data": {
            "image/png": "[encoded data removed]",
            "text/plain": [
              "<Figure size 432x288 with 1 Axes>"
            ]
          },
          "metadata": {
            "tags": [],
            "needs_background": "light"
          }
        }
      ]
    }
  ]
}